{
 "cells": [
  {
   "cell_type": "code",
   "execution_count": 1,
   "id": "210108dc-85b5-436b-946d-089a808329c9",
   "metadata": {},
   "outputs": [],
   "source": [
    "import pandas as pd\n",
    "import matplotlib.pyplot as plt\n",
    "%matplotlib inline\n",
    "import seaborn as sns\n",
    "from sklearn.preprocessing import LabelEncoder\n",
    "from sklearn.model_selection import train_test_split \n",
    "from sklearn.tree import DecisionTreeClassifier \n",
    "from sklearn.metrics import accuracy_score \n",
    "from sklearn.tree import plot_tree \n",
    "from sklearn.model_selection import GridSearchCV"
   ]
  },
  {
   "cell_type": "code",
   "execution_count": 2,
   "id": "67116205-4ebc-4573-9565-afe94fa533f5",
   "metadata": {},
   "outputs": [
    {
     "name": "stdout",
     "output_type": "stream",
     "text": [
      "     sepal length (cm)  sepal width (cm)  petal length (cm)  petal width (cm)  \\\n",
      "0                  5.1               3.5                1.4               0.2   \n",
      "1                  4.9               3.0                1.4               0.2   \n",
      "2                  4.7               3.2                1.3               0.2   \n",
      "3                  4.6               3.1                1.5               0.2   \n",
      "4                  5.0               3.6                1.4               0.2   \n",
      "..                 ...               ...                ...               ...   \n",
      "148                6.7               3.0                5.2               2.3   \n",
      "149                6.3               2.5                5.0               1.9   \n",
      "150                6.5               3.0                5.2               2.0   \n",
      "151                6.2               3.4                5.4               2.3   \n",
      "152                5.9               3.0                5.1               1.8   \n",
      "\n",
      "     iris_name  \n",
      "0       setosa  \n",
      "1       setosa  \n",
      "2       setosa  \n",
      "3       setosa  \n",
      "4       setosa  \n",
      "..         ...  \n",
      "148  virginica  \n",
      "149  virginica  \n",
      "150  virginica  \n",
      "151  virginica  \n",
      "152  virginica  \n",
      "\n",
      "[153 rows x 5 columns]\n"
     ]
    }
   ],
   "source": [
    "#ex 1\n",
    "#Import with pandas the file iris_teach_2.csv into the pandas DataFrame with the name df_iris.\n",
    "df_iris = pd.read_csv('iris_teach_2.csv')\n",
    "print(df_iris)"
   ]
  },
  {
   "cell_type": "code",
   "execution_count": 3,
   "id": "87fff7ad-cf5f-4528-ba66-9726de2436c6",
   "metadata": {},
   "outputs": [
    {
     "data": {
      "text/plain": [
       "sepal length (cm)    1\n",
       "sepal width (cm)     1\n",
       "petal length (cm)    0\n",
       "petal width (cm)     1\n",
       "iris_name            1\n",
       "dtype: int64"
      ]
     },
     "execution_count": 3,
     "metadata": {},
     "output_type": "execute_result"
    }
   ],
   "source": [
    "#ex2\n",
    "#use the method isnull() from the class DataFrame to check if\n",
    "#there are empty cells in the dataset. (Hint: check the documentation and use this method with respect to your DataFrame object; \n",
    "#use the method .sum() to the result to count the empty cells on columns)\n",
    "df_iris.isna().sum()"
   ]
  },
  {
   "cell_type": "code",
   "execution_count": 4,
   "id": "c5837a51-3aca-46f2-be41-46221d99c945",
   "metadata": {},
   "outputs": [
    {
     "data": {
      "text/plain": [
       "sepal length (cm)    0\n",
       "sepal width (cm)     0\n",
       "petal length (cm)    0\n",
       "petal width (cm)     0\n",
       "iris_name            0\n",
       "dtype: int64"
      ]
     },
     "execution_count": 4,
     "metadata": {},
     "output_type": "execute_result"
    }
   ],
   "source": [
    "#ex3\n",
    "#We see that we have some empty cells on some rows. Delete these rows (hint: use the method dropna() from pandas.DataFrame class, with the argument inplace=True). Check the documentation why we use that argument \n",
    "#(https://pandas.pydata.org/docs/reference/api/pandas.DataFrame.dropna.html)!\n",
    "df_iris.dropna(inplace=True)\n",
    "df_iris.isna().sum()"
   ]
  },
  {
   "cell_type": "code",
   "execution_count": 6,
   "id": "1a8774d3-8745-4f64-8beb-13ead7744723",
   "metadata": {},
   "outputs": [
    {
     "name": "stdout",
     "output_type": "stream",
     "text": [
      "   sepal length (cm)  sepal width (cm)  petal length (cm)  petal width (cm)\n",
      "0                5.1               3.5                1.4               0.2\n",
      "1                4.9               3.0                1.4               0.2\n",
      "2                4.7               3.2                1.3               0.2\n",
      "3                4.6               3.1                1.5               0.2\n",
      "4                5.0               3.6                1.4               0.2\n",
      "  iris_name\n",
      "0    setosa\n",
      "1    setosa\n",
      "2    setosa\n",
      "3    setosa\n",
      "4    setosa\n"
     ]
    }
   ],
   "source": [
    "#ex4\n",
    "#Divide the dataset in two parts: a set X for features and y for target.\n",
    "# X = df_iris.drop('iris_name', axis=1)\n",
    "# y = df_iris['iris_name']\n",
    "\n",
    "# print(X)\n",
    "# print(y)\n",
    "X = df_iris.loc[:, df_iris.columns != \"iris_name\"]\n",
    "y = df_iris.loc[:, ['iris_name']]\n",
    "print(X.head())\n",
    "print(y.head())"
   ]
  },
  {
   "cell_type": "code",
   "execution_count": 8,
   "id": "4fb98226-a8ec-40f9-9df6-47f4951a79b4",
   "metadata": {},
   "outputs": [
    {
     "name": "stdout",
     "output_type": "stream",
     "text": [
      "   iris_name\n",
      "0          0\n",
      "1          0\n",
      "2          0\n",
      "3          0\n",
      "4          0\n"
     ]
    }
   ],
   "source": [
    "#ex5\n",
    "#Create a LabelEncoder object to encode the classes from the target. Fit it with the y list, and encode y with it. \n",
    "#le = LabelEncoder()\n",
    "#le.fit(y)\n",
    "# fit and transform the target variable\n",
    "#y = le.transform(y)\n",
    "#print(y)\n",
    "\n",
    "le = LabelEncoder().fit(y['iris_name'])\n",
    "y['iris_name'] = le.transform(y['iris_name'])\n",
    "print(y.head())"
   ]
  },
  {
   "cell_type": "code",
   "execution_count": 9,
   "id": "97667213-5475-4c49-a74e-2ac0ef5421b3",
   "metadata": {},
   "outputs": [],
   "source": [
    "#ex6\n",
    "#Divide the dataset in a training and a testing set as we did it in the previous laboratory with the sklearn function train_test_split\n",
    "X_train, X_test, y_train, y_test = train_test_split(X, y, test_size=0.25, random_state=42)"
   ]
  },
  {
   "cell_type": "code",
   "execution_count": 10,
   "id": "9c31dc80-f804-4594-9289-1c02a39a66c0",
   "metadata": {},
   "outputs": [
    {
     "data": {
      "text/html": [
       "<div>\n",
       "<style scoped>\n",
       "    .dataframe tbody tr th:only-of-type {\n",
       "        vertical-align: middle;\n",
       "    }\n",
       "\n",
       "    .dataframe tbody tr th {\n",
       "        vertical-align: top;\n",
       "    }\n",
       "\n",
       "    .dataframe thead th {\n",
       "        text-align: right;\n",
       "    }\n",
       "</style>\n",
       "<table border=\"1\" class=\"dataframe\">\n",
       "  <thead>\n",
       "    <tr style=\"text-align: right;\">\n",
       "      <th></th>\n",
       "      <th>sepal length (cm)</th>\n",
       "      <th>sepal width (cm)</th>\n",
       "      <th>petal length (cm)</th>\n",
       "    </tr>\n",
       "  </thead>\n",
       "  <tbody>\n",
       "    <tr>\n",
       "      <th>0</th>\n",
       "      <td>5.1</td>\n",
       "      <td>3.5</td>\n",
       "      <td>1.4</td>\n",
       "    </tr>\n",
       "    <tr>\n",
       "      <th>1</th>\n",
       "      <td>4.9</td>\n",
       "      <td>3.0</td>\n",
       "      <td>1.4</td>\n",
       "    </tr>\n",
       "    <tr>\n",
       "      <th>2</th>\n",
       "      <td>4.7</td>\n",
       "      <td>3.2</td>\n",
       "      <td>1.3</td>\n",
       "    </tr>\n",
       "    <tr>\n",
       "      <th>3</th>\n",
       "      <td>4.6</td>\n",
       "      <td>3.1</td>\n",
       "      <td>1.5</td>\n",
       "    </tr>\n",
       "    <tr>\n",
       "      <th>4</th>\n",
       "      <td>5.0</td>\n",
       "      <td>3.6</td>\n",
       "      <td>1.4</td>\n",
       "    </tr>\n",
       "  </tbody>\n",
       "</table>\n",
       "</div>"
      ],
      "text/plain": [
       "   sepal length (cm)  sepal width (cm)  petal length (cm)\n",
       "0                5.1               3.5                1.4\n",
       "1                4.9               3.0                1.4\n",
       "2                4.7               3.2                1.3\n",
       "3                4.6               3.1                1.5\n",
       "4                5.0               3.6                1.4"
      ]
     },
     "execution_count": 10,
     "metadata": {},
     "output_type": "execute_result"
    }
   ],
   "source": [
    "#ex7\n",
    "#Drop the petal width column from the database and create a decision tree in a similar way with the example.\n",
    "#ex8\n",
    "#Find the proper depth and evaluate the score for the decision tree model that you build.\n",
    "X = X.loc[:, X.columns != \"petal width (cm)\"]\n",
    "X_train, X_test, y_train, y_test = train_test_split(X, y, test_size=0.25, random_state=42)\n",
    "X.head()"
   ]
  },
  {
   "cell_type": "code",
   "execution_count": 11,
   "id": "657dbbd0-9f76-4588-a0dd-1c6f8dfff714",
   "metadata": {},
   "outputs": [
    {
     "name": "stdout",
     "output_type": "stream",
     "text": [
      "Best hyperparameters: {'max_depth': 2}\n"
     ]
    }
   ],
   "source": [
    "tree_clf = DecisionTreeClassifier(criterion='entropy', random_state=42) \n",
    "param_grid = {\"max_depth\": [1, 2, 3, 4, 5, 6, 7, 8]} \n",
    "\n",
    "grid_search = GridSearchCV(tree_clf, param_grid, cv=5) \n",
    "\n",
    "grid_search.fit(X_train, y_train) \n",
    "\n",
    "print(\"Best hyperparameters:\", grid_search.best_params_)"
   ]
  },
  {
   "cell_type": "code",
   "execution_count": 12,
   "id": "de834b26-f71a-40a4-a6ea-a021e9701bb4",
   "metadata": {},
   "outputs": [
    {
     "name": "stdout",
     "output_type": "stream",
     "text": [
      "Accuracy: 0.97\n"
     ]
    },
    {
     "data": {
      "image/png": "[encoded data removed]",
      "text/plain": [
       "<Figure size 640x480 with 1 Axes>"
      ]
     },
     "metadata": {},
     "output_type": "display_data"
    }
   ],
   "source": [
    "tree_clf_tuned = DecisionTreeClassifier(criterion='entropy', max_depth=2, random_state=42) \n",
    "tree_clf_tuned.fit(X_train, y_train)\n",
    "\n",
    "plot_tree(tree_clf_tuned)\n",
    "\n",
    "y_pred = tree_clf_tuned.predict(X_test) \n",
    "accuracy = accuracy_score(y_test, y_pred) \n",
    "print(\"Accuracy: {:.2f}\".format(accuracy))"
   ]
  }
 ],
 "metadata": {
  "kernelspec": {
   "display_name": "Python 3 (ipykernel)",
   "language": "python",
   "name": "python3"
  },
  "language_info": {
   "codemirror_mode": {
    "name": "ipython",
    "version": 3
   },
   "file_extension": ".py",
   "mimetype": "text/x-python",
   "name": "python",
   "nbconvert_exporter": "python",
   "pygments_lexer": "ipython3",
   "version": "3.11.8"
  }
 },
 "nbformat": 4,
 "nbformat_minor": 5
}
